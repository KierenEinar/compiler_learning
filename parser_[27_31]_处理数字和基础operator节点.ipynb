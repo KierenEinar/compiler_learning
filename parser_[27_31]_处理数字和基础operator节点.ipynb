{
 "cells": [
  {
   "cell_type": "markdown",
   "id": "63461e5c-7981-43ac-a209-89d28c4d9e83",
   "metadata": {},
   "source": [
    "### 基础类定义"
   ]
  },
  {
   "cell_type": "code",
   "execution_count": 3,
   "id": "6d5dc5f1-4a78-40d6-a0d6-deecc5a4a7d3",
   "metadata": {},
   "outputs": [],
   "source": [
    "# 位置定义, 这个不重要\n",
    "class Pos(object):\n",
    "    pass \n",
    "\n",
    "class Token(object):\n",
    "    def __init__(token_type, token_val):\n",
    "        self.token_type = token_type\n",
    "        self.token_val = token_val\n",
    "\n",
    "class Node(object):\n",
    "    def __init__(node_type):\n",
    "        self.token = token\n",
    "        self.node_type = node_type # node的类型, number类型, identifier 类型, string类型, keyword, operator, struct, union ...\n",
    "        self.node_value = node_value\n",
    "# 编译器定义\n",
    "class Compiler(object):\n",
    "    def __init__():\n",
    "        self.flags = 0\n",
    "        self.pos = Pos()\n",
    "\n",
    "        # tokens\n",
    "        self.tokens = []\n",
    "\n",
    "        # 节点\n",
    "        self.nodes = []\n",
    "        self.nodeTrees = []"
   ]
  },
  {
   "cell_type": "markdown",
   "id": "6add2c50-e778-4a32-b3cf-c05f59d8c215",
   "metadata": {},
   "source": [
    "### parser 解析token"
   ]
  },
  {
   "cell_type": "markdown",
   "id": "6d8f2efa-1b2f-4656-8805-529c8f7f173d",
   "metadata": {},
   "source": [
    "#### 每次读取一个新的token"
   ]
  },
  {
   "cell_type": "code",
   "execution_count": 4,
   "id": "e673c951-c137-4854-8115-ce41e5652dce",
   "metadata": {},
   "outputs": [],
   "source": [
    "def token_next():\n",
    "    ## 先预读一个token, 但是不会pop\n",
    "    ## 但是有一种特殊情况需要考虑, 没有实际意义的token, 总共包括三种, 如果token的类型等于单行的注释, 多行的注释, #define 里边的 \\\n",
    "    ## 上面这三种情况可以直接跳过, 再继续读取下一个token， 依次循环, 直至符合条件的token出现\n",
    "    pass\n",
    "\n",
    "def token_peek_next():\n",
    "    ## 跟token_next一样, 唯一不同的是不会把当前tokens pop\n",
    "    pass "
   ]
  },
  {
   "cell_type": "markdown",
   "id": "ac867884-6fbd-4251-b1eb-bf6001c35af2",
   "metadata": {},
   "source": [
    "### 解析的主流程[27]"
   ]
  },
  {
   "cell_type": "code",
   "execution_count": 5,
   "id": "a22d913b-3788-4721-9bcb-9130c995a166",
   "metadata": {},
   "outputs": [],
   "source": [
    "def parse_single_token_to_node(compiler: Compiler):\n",
    "    ## 读取一个token, 判断token类型\n",
    "    ## 1. 如果是数字类型，创建node, type为数字类型的\n",
    "    ## 2. 如果是identifier类型, type为identifier的\n",
    "    ## 3. 如果是字符串类型, type为字符串的\n",
    "    ## 将节点往compiler的节点list push.\n",
    "    pass \n",
    "\n",
    "def parse_next():\n",
    "\n",
    "    ## 在一个大循环内部\n",
    "    ## 依次读取每一个token\n",
    "    ## 如果类型在数字类型， identifier，字符串的, 通过 `parse_single_token_to_node` 创建节点，并返回 0 代表外边的parse仍需要调用该函数来读取新的node\n",
    "    ## 返回 -1 代表不需要读取新的token解析\n",
    "    pass \n",
    "\n",
    "\n",
    "def parse():\n",
    "    ## 不断的调用parse_next\n",
    "    pass \n",
    "    "
   ]
  },
  {
   "cell_type": "markdown",
   "id": "9b2f7ac3-244d-40f3-a362-4276ce164490",
   "metadata": {},
   "source": [
    "### 解析简单的表达式[28]\n",
    "#### 解决简单的加法表达式 i.g. 1000 + 100 "
   ]
  },
  {
   "cell_type": "code",
   "execution_count": 7,
   "id": "45421f03-92e0-40fd-846a-6bfcc4029d5d",
   "metadata": {},
   "outputs": [],
   "source": [
    "def parse_expressionable_for_op():\n",
    "    ## 调用 `parse_expressionable` 递归的解析节点\n",
    "    pass \n",
    "\n",
    "def parse_exp_normal():\n",
    "    \n",
    "    ## 获取队头的node为left_node\n",
    "    ## 判断left_node是否为空, 是空就直接返回\n",
    "    ## 当前node队头pop出来\n",
    "    ## 调用`token_next`将指针下移到表达式右边的token上\n",
    "    ## 调用 `parse_expressionable_for_op` 递归的获得右节点\n",
    "    ## 然后对左右节点进行冲排序合并\n",
    "    ## 最终得到一个新的节点, 并push到队列中\n",
    "\n",
    "    \n",
    "    pass \n",
    "\n",
    "def parse_exp():\n",
    "    ## 调用 `parse_exp_normal`\n",
    "    pass \n",
    "\n",
    "\n",
    "def parse_expressionable_single_node():\n",
    "    # 判断当前的token类型, 如果是数字, 那么调用 `parse_single_token_to_node`, 并返回0代表需要继续解析token获取新的node\n",
    "    # 如果当前的token类型是operator, 那么调用`parse_exp` 解析表达式\n",
    "    pass \n",
    "\n",
    "\n",
    "def parse_expressionable():\n",
    "    ## 在一个循环内一次调用parse_expressionable_single_node, 如果返回的是0, 那么继续, 否则跳出循环\n",
    "    pass \n",
    "\n",
    "\n",
    "def parse_next():\n",
    "\n",
    "    ## 在一个大循环内部\n",
    "    ## 依次读取每一个token\n",
    "    ## 如果类型在数字类型， identifier，字符串的, 通过 `parse_expressionable` 创建节点，并返回 0 代表外边的parse仍需要调用该函数来读取新的node\n",
    "    ## 返回 -1 代表不需要读取新的token解析\n",
    "    pass \n"
   ]
  },
  {
   "cell_type": "code",
   "execution_count": null,
   "id": "326a79cb-768c-4b9f-afda-aba0b0b4df80",
   "metadata": {},
   "outputs": [],
   "source": []
  }
 ],
 "metadata": {
  "kernelspec": {
   "display_name": "Python 3 (ipykernel)",
   "language": "python",
   "name": "python3"
  },
  "language_info": {
   "codemirror_mode": {
    "name": "ipython",
    "version": 3
   },
   "file_extension": ".py",
   "mimetype": "text/x-python",
   "name": "python",
   "nbconvert_exporter": "python",
   "pygments_lexer": "ipython3",
   "version": "3.12.1"
  }
 },
 "nbformat": 4,
 "nbformat_minor": 5
}
